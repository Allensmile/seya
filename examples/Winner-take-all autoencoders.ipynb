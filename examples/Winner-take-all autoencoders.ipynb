{
 "cells": [
  {
   "cell_type": "code",
   "execution_count": 1,
   "metadata": {
    "collapsed": false
   },
   "outputs": [
    {
     "name": "stdout",
     "output_type": "stream",
     "text": [
      "Using Theano backend.\n",
      "X_train shape: (60000, 1, 28, 28)\n",
      "60000 train samples\n",
      "10000 test samples\n"
     ]
    },
    {
     "name": "stderr",
     "output_type": "stream",
     "text": [
      "Using gpu device 0: GeForce GTX 680 (CNMeM is disabled)\n"
     ]
    }
   ],
   "source": [
    "%matplotlib inline\n",
    "from __future__ import absolute_import\n",
    "from __future__ import print_function\n",
    "import matplotlib.pyplot as plt\n",
    "import numpy as np\n",
    "np.random.seed(1337)  # for reproducibility\n",
    "\n",
    "from theano import function\n",
    "\n",
    "from keras.datasets import mnist\n",
    "from keras.models import Sequential\n",
    "from keras.layers.core import Dense, Dropout, Activation, Flatten, Reshape, Layer, Lambda\n",
    "from keras.layers.convolutional import Convolution2D, MaxPooling2D, UpSampling2D\n",
    "from keras.utils import np_utils\n",
    "from keras import backend as K\n",
    "from keras.callbacks import ModelCheckpoint\n",
    "from keras.regularizers import l2\n",
    "\n",
    "from seya.layers.variational import VariationalDense as VAE\n",
    "from seya.layers.convolutional import GlobalPooling2D\n",
    "from seya.utils import apply_model\n",
    "\n",
    "from agnez import grid2d, img_grid\n",
    "\n",
    "batch_size = 100\n",
    "nb_epoch = 3\n",
    "code_size = 200\n",
    "\n",
    "# input image dimensions\n",
    "img_rows, img_cols = 28, 28\n",
    "# number of convolutional filters to use\n",
    "nb_filters = 32\n",
    "# size of pooling area for max pooling\n",
    "nb_pool = 2\n",
    "# convolution kernel size\n",
    "nb_conv = 5\n",
    "nb_classes = 10\n",
    "\n",
    "# the data, shuffled and split between tran and test sets\n",
    "(X_train, y_train), (X_test, y_test) = mnist.load_data()\n",
    "\n",
    "X_train = X_train.reshape(X_train.shape[0], 1, img_rows, img_cols)\n",
    "X_test = X_test.reshape(X_test.shape[0], 1, img_rows, img_cols)\n",
    "X_train = X_train.astype(\"float32\") - 128\n",
    "X_test = X_test.astype(\"float32\") - 128\n",
    "X_train /= 128\n",
    "X_test /= 128\n",
    "\n",
    "print('X_train shape:', X_train.shape)\n",
    "print(X_train.shape[0], 'train samples')\n",
    "print(X_test.shape[0], 'test samples')\n",
    "\n",
    "# convert class vectors to binary class matrices\n",
    "Y_train = np_utils.to_categorical(y_train, nb_classes)\n",
    "Y_test = np_utils.to_categorical(y_test, nb_classes)\n",
    "\n",
    "X_valid = X_train[50000:]\n",
    "Y_valid = Y_train[50000:]\n",
    "X_train = X_train[:50000]\n",
    "Y_train = Y_train[:50000]"
   ]
  },
  {
   "cell_type": "code",
   "execution_count": 2,
   "metadata": {
    "collapsed": true
   },
   "outputs": [],
   "source": [
    "def wtall(X):\n",
    "    M = K.max(X, axis=(2, 3), keepdims=True)\n",
    "    R = K.switch(K.equal(X, M), X, 0.)\n",
    "    return R"
   ]
  },
  {
   "cell_type": "code",
   "execution_count": 3,
   "metadata": {
    "collapsed": false
   },
   "outputs": [],
   "source": [
    "enc = Sequential()\n",
    "enc.add(Convolution2D(nb_filters, nb_conv, nb_conv,\n",
    "                        #W_regularizer=l2(.0005),\n",
    "                        border_mode='same',\n",
    "                        input_shape=(1, img_rows, img_cols)))\n",
    "#enc.add(Dropout(.5))\n",
    "enc.add(Activation('relu'))\n",
    "enc.add(Convolution2D(nb_filters, nb_conv, nb_conv,\n",
    "                        border_mode='same'))\n",
    "enc.add(Activation('relu'))\n",
    "\n",
    "pool_shape = enc.output_shape\n",
    "\n",
    "enc.add(Lambda(function=wtall, output_shape=pool_shape))"
   ]
  },
  {
   "cell_type": "code",
   "execution_count": 4,
   "metadata": {
    "collapsed": true
   },
   "outputs": [],
   "source": [
    "dec = Sequential()\n",
    "dec.add(Convolution2D(1, 11, 11, border_mode='same',\n",
    "                     input_shape=pool_shape[1:]))\n",
    "# dec.add(Activation('linear'))\n",
    "dec.add(Flatten())"
   ]
  },
  {
   "cell_type": "code",
   "execution_count": null,
   "metadata": {
    "collapsed": false
   },
   "outputs": [],
   "source": [
    "model = Sequential()\n",
    "model.add(enc)\n",
    "model.add(dec)\n",
    "\n",
    "model.compile(loss='mse', optimizer='adam')"
   ]
  },
  {
   "cell_type": "code",
   "execution_count": null,
   "metadata": {
    "collapsed": false
   },
   "outputs": [
    {
     "name": "stdout",
     "output_type": "stream",
     "text": [
      "Train on 50000 samples, validate on 10000 samples\n",
      "Epoch 1/3\n",
      "19700/50000 [==========>...................] - ETA: 28s - loss: 0.3473"
     ]
    }
   ],
   "source": [
    "#cbk = ModelCheckpoint('vae/vae.hdf5', save_best_only=True)\n",
    "\n",
    "try:\n",
    "    model.fit(X_train, X_train.reshape((-1, 784)), batch_size=batch_size, nb_epoch=nb_epoch, verbose=1,\n",
    "          validation_data=(X_valid, X_valid.reshape((-1, 784)))\n",
    "              #,callbacks=[cbk]\n",
    "             )\n",
    "except:\n",
    "    pass"
   ]
  },
  {
   "cell_type": "markdown",
   "metadata": {},
   "source": [
    "# Visualize first layers"
   ]
  },
  {
   "cell_type": "code",
   "execution_count": null,
   "metadata": {
    "collapsed": false
   },
   "outputs": [],
   "source": [
    "W = np.asarray(K.eval(enc.layers[0].W))\n",
    "W = W.reshape((32, -1))\n",
    "I = grid2d(W)"
   ]
  },
  {
   "cell_type": "code",
   "execution_count": null,
   "metadata": {
    "collapsed": false
   },
   "outputs": [],
   "source": [
    "plt.imshow(I)"
   ]
  },
  {
   "cell_type": "markdown",
   "metadata": {},
   "source": [
    "# Visualize decoder"
   ]
  },
  {
   "cell_type": "code",
   "execution_count": null,
   "metadata": {
    "collapsed": false
   },
   "outputs": [],
   "source": [
    "W = np.asarray(K.eval(dec.layers[0].W))\n",
    "W = W.transpose(1, 0, 2, 3)\n",
    "I = img_grid(W)\n",
    "plt.imshow(I)"
   ]
  }
 ],
 "metadata": {
  "kernelspec": {
   "display_name": "Python 2",
   "language": "python",
   "name": "python2"
  },
  "language_info": {
   "codemirror_mode": {
    "name": "ipython",
    "version": 2
   },
   "file_extension": ".py",
   "mimetype": "text/x-python",
   "name": "python",
   "nbconvert_exporter": "python",
   "pygments_lexer": "ipython2",
   "version": "2.7.10"
  }
 },
 "nbformat": 4,
 "nbformat_minor": 0
}
